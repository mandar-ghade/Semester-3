{
 "cells": [
  {
   "cell_type": "code",
   "execution_count": 1,
   "metadata": {},
   "outputs": [],
   "source": [
    "import sympy as smp"
   ]
  },
  {
   "cell_type": "code",
   "execution_count": 2,
   "metadata": {},
   "outputs": [],
   "source": [
    "def get_distance(P1: tuple[int, int, int], P2: tuple[int, int, int]) -> float:\n",
    "    x1, y1, z1 = P1\n",
    "    x2, y2, z2 = P2\n",
    "    print((x1-x2)**2 + (y1-y2)**2 + (z1-z2)**2)\n",
    "    return ((x1-x2)**2 + (y1-y2)**2 + (z1-z2)**2) ** 0.5"
   ]
  },
  {
   "cell_type": "code",
   "execution_count": 3,
   "metadata": {},
   "outputs": [],
   "source": [
    "def get_vector_length(vec: tuple[int, int, int]) -> float:\n",
    "    x, y, z = vec\n",
    "    return (x**2 + y**2 + z**2) ** 0.5"
   ]
  },
  {
   "cell_type": "code",
   "execution_count": 4,
   "metadata": {},
   "outputs": [],
   "source": [
    "def dot(a: tuple[int, int, int], b: tuple[int, int, int]) -> float:\n",
    "    ax, ay, az = a\n",
    "    bx, by, bz = b\n",
    "    return ax*bx + ay*by + az*bz"
   ]
  },
  {
   "cell_type": "code",
   "execution_count": 5,
   "metadata": {},
   "outputs": [],
   "source": [
    "def comp_a_b(a: tuple[int, int, int], b: tuple[int, int, int]):\n",
    "    print(dot(a, b), ' / ', get_vector_length(b))\n",
    "    return dot(a, b) / get_vector_length(b)"
   ]
  },
  {
   "cell_type": "code",
   "execution_count": 6,
   "metadata": {},
   "outputs": [],
   "source": [
    "i, j, k = smp.symbols('i, j, k')"
   ]
  },
  {
   "cell_type": "code",
   "execution_count": 7,
   "metadata": {},
   "outputs": [],
   "source": [
    "def vec_to_cartesian(vec: tuple[int, int, int]):\n",
    "    x, y, z = vec\n",
    "    return x*i + y*j + z*k"
   ]
  },
  {
   "cell_type": "code",
   "execution_count": 8,
   "metadata": {},
   "outputs": [],
   "source": [
    "def proj_a_b(a: tuple[int, int, int], b: tuple[int, int, int]):\n",
    "    \"\"\"\n",
    "    A is vector that is being projected\n",
    "    B is vector that is being projected on\"\"\"\n",
    "    comp = comp_a_b(a, b)\n",
    "    product = comp * vec_to_cartesian(b)\n",
    "    print(product)\n",
    "    return product / get_vector_length(b)"
   ]
  },
  {
   "cell_type": "code",
   "execution_count": 9,
   "metadata": {},
   "outputs": [],
   "source": [
    "def get_angle(a: tuple[int, int, int], b: tuple[int, int, int]):\n",
    "    return smp.acos(dot(a, b) / (get_vector_length(a) * get_vector_length(b)))"
   ]
  },
  {
   "cell_type": "code",
   "execution_count": 10,
   "metadata": {},
   "outputs": [
    {
     "data": {
      "text/latex": [
       "$\\displaystyle 0.953230637699318$"
      ],
      "text/plain": [
       "0.953230637699318"
      ]
     },
     "execution_count": 10,
     "metadata": {},
     "output_type": "execute_result"
    }
   ],
   "source": [
    "smp.cos(get_angle((7, -1, 0), (6, 1, 0)))"
   ]
  },
  {
   "cell_type": "code",
   "execution_count": 11,
   "metadata": {},
   "outputs": [
    {
     "name": "stdout",
     "output_type": "stream",
     "text": [
      "7  /  3.0\n"
     ]
    },
    {
     "data": {
      "text/plain": [
       "2.3333333333333335"
      ]
     },
     "execution_count": 11,
     "metadata": {},
     "output_type": "execute_result"
    }
   ],
   "source": [
    "comp_a_b((-1, 5, 1), (1, 2, -2))"
   ]
  },
  {
   "cell_type": "code",
   "execution_count": 12,
   "metadata": {},
   "outputs": [
    {
     "name": "stdout",
     "output_type": "stream",
     "text": [
      "32  /  6.0\n",
      "21.3333333333333*i + 10.6666666666667*j - 21.3333333333333*k\n"
     ]
    },
    {
     "data": {
      "text/latex": [
       "$\\displaystyle 3.55555555555556 i + 1.77777777777778 j - 3.55555555555556 k$"
      ],
      "text/plain": [
       "3.55555555555556*i + 1.77777777777778*j - 3.55555555555556*k"
      ]
     },
     "execution_count": 12,
     "metadata": {},
     "output_type": "execute_result"
    }
   ],
   "source": [
    "proj_a_b((6, 4, 0), (4, 2, -4))"
   ]
  },
  {
   "cell_type": "code",
   "execution_count": 13,
   "metadata": {},
   "outputs": [
    {
     "data": {
      "text/plain": [
       "30"
      ]
     },
     "execution_count": 13,
     "metadata": {},
     "output_type": "execute_result"
    }
   ],
   "source": [
    "dot((5, -1, 2), (5, -1, 2))"
   ]
  },
  {
   "cell_type": "code",
   "execution_count": 14,
   "metadata": {},
   "outputs": [
    {
     "data": {
      "text/latex": [
       "$\\displaystyle 1.0$"
      ],
      "text/plain": [
       "1.00000000000000"
      ]
     },
     "execution_count": 14,
     "metadata": {},
     "output_type": "execute_result"
    }
   ],
   "source": [
    "get_vector_length((0, -1, 1)) * get_vector_length((1, -1, 0)) * smp.cos(smp.pi / 3)"
   ]
  },
  {
   "cell_type": "code",
   "execution_count": 15,
   "metadata": {},
   "outputs": [
    {
     "name": "stdout",
     "output_type": "stream",
     "text": [
      "13  /  9.0\n"
     ]
    },
    {
     "data": {
      "text/plain": [
       "1.4444444444444444"
      ]
     },
     "execution_count": 15,
     "metadata": {},
     "output_type": "execute_result"
    }
   ],
   "source": [
    "comp_a_b((4, -1, -1), (4, 7, -4))"
   ]
  },
  {
   "cell_type": "code",
   "execution_count": 16,
   "metadata": {},
   "outputs": [
    {
     "name": "stdout",
     "output_type": "stream",
     "text": [
      "13  /  9.0\n",
      "5.77777777777778*i + 10.1111111111111*j - 5.77777777777778*k\n"
     ]
    },
    {
     "data": {
      "text/latex": [
       "$\\displaystyle 0.641975308641975 i + 1.12345679012346 j - 0.641975308641975 k$"
      ],
      "text/plain": [
       "0.641975308641975*i + 1.12345679012346*j - 0.641975308641975*k"
      ]
     },
     "execution_count": 16,
     "metadata": {},
     "output_type": "execute_result"
    }
   ],
   "source": [
    "proj_a_b((4, -1, -1), (4, 7, -4))"
   ]
  },
  {
   "cell_type": "code",
   "execution_count": 17,
   "metadata": {},
   "outputs": [
    {
     "name": "stdout",
     "output_type": "stream",
     "text": [
      "104\n"
     ]
    },
    {
     "data": {
      "text/plain": [
       "10.198039027185569"
      ]
     },
     "execution_count": 17,
     "metadata": {},
     "output_type": "execute_result"
    }
   ],
   "source": [
    "get_distance((1, -5, 1), (3, 3, -5))"
   ]
  }
 ],
 "metadata": {
  "kernelspec": {
   "display_name": "Python 3",
   "language": "python",
   "name": "python3"
  },
  "language_info": {
   "codemirror_mode": {
    "name": "ipython",
    "version": 3
   },
   "file_extension": ".py",
   "mimetype": "text/x-python",
   "name": "python",
   "nbconvert_exporter": "python",
   "pygments_lexer": "ipython3",
   "version": "3.12.0"
  }
 },
 "nbformat": 4,
 "nbformat_minor": 2
}
