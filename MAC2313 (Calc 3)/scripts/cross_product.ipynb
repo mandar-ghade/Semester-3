{
 "cells": [
  {
   "cell_type": "code",
   "execution_count": 23,
   "metadata": {},
   "outputs": [],
   "source": [
    "import sympy as smp\n",
    "from sympy.vector import CoordSys3D, dot, cross"
   ]
  },
  {
   "cell_type": "code",
   "execution_count": 24,
   "metadata": {},
   "outputs": [],
   "source": [
    "N = CoordSys3D('')\n",
    "i, j, k = N.i, N.j, N.k"
   ]
  },
  {
   "cell_type": "code",
   "execution_count": 25,
   "metadata": {},
   "outputs": [],
   "source": [
    "t = smp.Symbol('t')"
   ]
  },
  {
   "cell_type": "code",
   "execution_count": 26,
   "metadata": {},
   "outputs": [],
   "source": [
    "def norm(v):\n",
    "    return smp.sqrt(v & v)"
   ]
  },
  {
   "cell_type": "code",
   "execution_count": 27,
   "metadata": {},
   "outputs": [],
   "source": [
    "def volume(l, w, h):\n",
    "    return h & (l ^ w)"
   ]
  },
  {
   "cell_type": "code",
   "execution_count": 28,
   "metadata": {},
   "outputs": [],
   "source": [
    "def to_cartesian(x, y, z):\n",
    "    return x*i + y*j + z*k"
   ]
  },
  {
   "cell_type": "code",
   "execution_count": 29,
   "metadata": {},
   "outputs": [],
   "source": [
    "def to_line(point: tuple[int, int, int], dir_vec):\n",
    "    x0, y0, z0 = point\n",
    "    return to_cartesian(x0, y0, z0) + t*dir_vec"
   ]
  },
  {
   "cell_type": "code",
   "execution_count": 30,
   "metadata": {},
   "outputs": [
    {
     "data": {
      "text/latex": [
       "$\\displaystyle \\mathbf{\\hat{i}_{}} - \\mathbf{\\hat{j}_{}} + \\left(3\\right)\\mathbf{\\hat{k}_{}}$"
      ],
      "text/plain": [
       ".i + (-1)*.j + 3*.k"
      ]
     },
     "execution_count": 30,
     "metadata": {},
     "output_type": "execute_result"
    }
   ],
   "source": [
    "one = to_cartesian(1, 1, 0)\n",
    "two = to_cartesian(-2, 1, 1)\n",
    "one ^ two"
   ]
  },
  {
   "cell_type": "code",
   "execution_count": 39,
   "metadata": {},
   "outputs": [
    {
     "data": {
      "text/latex": [
       "$\\displaystyle \\frac{4 \\sqrt{78}}{39}$"
      ],
      "text/plain": [
       "4*sqrt(78)/39"
      ]
     },
     "execution_count": 39,
     "metadata": {},
     "output_type": "execute_result"
    }
   ],
   "source": [
    "n1 = to_cartesian(1, 1, 1)\n",
    "n2 = to_cartesian(1, 3, 4)\n",
    "(n1 & n2)/(norm(n1) * norm(n2))"
   ]
  },
  {
   "cell_type": "code",
   "execution_count": 32,
   "metadata": {},
   "outputs": [
    {
     "ename": "NameError",
     "evalue": "name 'p1' is not defined",
     "output_type": "error",
     "traceback": [
      "\u001b[0;31m---------------------------------------------------------------------------\u001b[0m",
      "\u001b[0;31mNameError\u001b[0m                                 Traceback (most recent call last)",
      "Cell \u001b[0;32mIn[32], line 1\u001b[0m\n\u001b[0;32m----> 1\u001b[0m to_line(\u001b[43mp1\u001b[49m, dir_one)\n",
      "\u001b[0;31mNameError\u001b[0m: name 'p1' is not defined"
     ]
    }
   ],
   "source": [
    "to_line(p1, dir_one)"
   ]
  },
  {
   "cell_type": "code",
   "execution_count": 13,
   "metadata": {},
   "outputs": [
    {
     "data": {
      "text/latex": [
       "$\\displaystyle \\left(4 t + 7\\right)\\mathbf{\\hat{i}_{}} + \\left(3 - 2 t\\right)\\mathbf{\\hat{j}_{}} + \\left(5 t + 4\\right)\\mathbf{\\hat{k}_{}}$"
      ],
      "text/plain": [
       "(4*t + 7)*.i + (3 - 2*t)*.j + (5*t + 4)*.k"
      ]
     },
     "execution_count": 13,
     "metadata": {},
     "output_type": "execute_result"
    }
   ],
   "source": [
    "to_line(p2, dir_two)"
   ]
  }
 ],
 "metadata": {
  "kernelspec": {
   "display_name": "Python 3",
   "language": "python",
   "name": "python3"
  },
  "language_info": {
   "codemirror_mode": {
    "name": "ipython",
    "version": 3
   },
   "file_extension": ".py",
   "mimetype": "text/x-python",
   "name": "python",
   "nbconvert_exporter": "python",
   "pygments_lexer": "ipython3",
   "version": "3.12.0"
  }
 },
 "nbformat": 4,
 "nbformat_minor": 2
}
