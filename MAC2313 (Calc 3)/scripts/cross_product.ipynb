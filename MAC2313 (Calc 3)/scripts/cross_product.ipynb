{
 "cells": [
  {
   "cell_type": "code",
   "execution_count": 1,
   "metadata": {},
   "outputs": [],
   "source": [
    "import sympy as smp\n",
    "from sympy.vector import CoordSys3D, dot, cross"
   ]
  },
  {
   "cell_type": "code",
   "execution_count": 2,
   "metadata": {},
   "outputs": [],
   "source": [
    "N = CoordSys3D('')\n",
    "i, j, k = N.i, N.j, N.k"
   ]
  },
  {
   "cell_type": "code",
   "execution_count": 3,
   "metadata": {},
   "outputs": [],
   "source": [
    "t = smp.Symbol('t')"
   ]
  },
  {
   "cell_type": "code",
   "execution_count": 4,
   "metadata": {},
   "outputs": [],
   "source": [
    "def norm(v):\n",
    "    return smp.sqrt(v & v)"
   ]
  },
  {
   "cell_type": "code",
   "execution_count": 5,
   "metadata": {},
   "outputs": [],
   "source": [
    "def volume(l, w, h):\n",
    "    return h & (l ^ w)"
   ]
  },
  {
   "cell_type": "code",
   "execution_count": 6,
   "metadata": {},
   "outputs": [],
   "source": [
    "def to_cartesian(x, y, z):\n",
    "    return x*i + y*j + z*k"
   ]
  },
  {
   "cell_type": "code",
   "execution_count": 7,
   "metadata": {},
   "outputs": [],
   "source": [
    "def to_line(point: tuple[int, int, int], dir_vec):\n",
    "    x0, y0, z0 = point\n",
    "    return to_cartesian(x0, y0, z0) + t*dir_vec"
   ]
  },
  {
   "cell_type": "code",
   "execution_count": 8,
   "metadata": {},
   "outputs": [
    {
     "data": {
      "text/latex": [
       "$\\displaystyle \\mathbf{\\hat{i}_{}} - \\mathbf{\\hat{j}_{}} + \\left(3\\right)\\mathbf{\\hat{k}_{}}$"
      ],
      "text/plain": [
       ".i + (-1)*.j + 3*.k"
      ]
     },
     "execution_count": 8,
     "metadata": {},
     "output_type": "execute_result"
    }
   ],
   "source": [
    "one = to_cartesian(1, 1, 0)\n",
    "two = to_cartesian(-2, 1, 1)\n",
    "one ^ two"
   ]
  },
  {
   "cell_type": "code",
   "execution_count": 9,
   "metadata": {},
   "outputs": [
    {
     "data": {
      "text/latex": [
       "$\\displaystyle \\frac{4 \\sqrt{78}}{39}$"
      ],
      "text/plain": [
       "4*sqrt(78)/39"
      ]
     },
     "execution_count": 9,
     "metadata": {},
     "output_type": "execute_result"
    }
   ],
   "source": [
    "n1 = to_cartesian(1, 1, 1)\n",
    "n2 = to_cartesian(1, 3, 4)\n",
    "(n1 & n2)/(norm(n1) * norm(n2))"
   ]
  },
  {
   "cell_type": "code",
   "execution_count": 10,
   "metadata": {},
   "outputs": [],
   "source": [
    "cos = smp.cos\n",
    "sin = smp.sin\n",
    "pi = smp.pi\n",
    "x = smp.Symbol('x')"
   ]
  },
  {
   "cell_type": "code",
   "execution_count": 11,
   "metadata": {},
   "outputs": [
    {
     "data": {
      "text/latex": [
       "$\\displaystyle \\sqrt{3}$"
      ],
      "text/plain": [
       "sqrt(3)"
      ]
     },
     "execution_count": 11,
     "metadata": {},
     "output_type": "execute_result"
    }
   ],
   "source": [
    "a = cos(x)\n",
    "b = smp.sqrt(2) * cos(x)\n",
    "c = smp.sqrt(3) * sin(x)\n",
    "expr = smp.sqrt(a.diff()**2 + b.diff()**2 + c.diff()**2)\n",
    "smp.integrate(expr, (x, 0, 1)).simplify()"
   ]
  }
 ],
 "metadata": {
  "kernelspec": {
   "display_name": "Python 3",
   "language": "python",
   "name": "python3"
  },
  "language_info": {
   "codemirror_mode": {
    "name": "ipython",
    "version": 3
   },
   "file_extension": ".py",
   "mimetype": "text/x-python",
   "name": "python",
   "nbconvert_exporter": "python",
   "pygments_lexer": "ipython3",
   "version": "3.12.0"
  }
 },
 "nbformat": 4,
 "nbformat_minor": 2
}
