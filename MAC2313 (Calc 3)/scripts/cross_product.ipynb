{
 "cells": [
  {
   "cell_type": "code",
   "execution_count": 57,
   "metadata": {},
   "outputs": [],
   "source": [
    "import sympy as smp\n",
    "from sympy.vector import CoordSys3D, dot, cross"
   ]
  },
  {
   "cell_type": "code",
   "execution_count": 58,
   "metadata": {},
   "outputs": [],
   "source": [
    "N = CoordSys3D('')\n",
    "i, j, k = N.i, N.j, N.k"
   ]
  },
  {
   "cell_type": "code",
   "execution_count": 59,
   "metadata": {},
   "outputs": [],
   "source": [
    "t = smp.Symbol('t')"
   ]
  },
  {
   "cell_type": "code",
   "execution_count": 60,
   "metadata": {},
   "outputs": [],
   "source": [
    "def norm(v):\n",
    "    return smp.sqrt(v & v)"
   ]
  },
  {
   "cell_type": "code",
   "execution_count": 61,
   "metadata": {},
   "outputs": [],
   "source": [
    "def volume(l, w, h):\n",
    "    return h & (l ^ w)"
   ]
  },
  {
   "cell_type": "code",
   "execution_count": 62,
   "metadata": {},
   "outputs": [],
   "source": [
    "def to_cartesian(x: int, y: int, z: int):\n",
    "    return x*i + y*j + z*k"
   ]
  },
  {
   "cell_type": "code",
   "execution_count": 63,
   "metadata": {},
   "outputs": [],
   "source": [
    "def to_line(point: tuple[int, int, int], dir_vec):\n",
    "    x0, y0, z0 = point\n",
    "    return to_cartesian(x0, y0, z0) + t*dir_vec"
   ]
  },
  {
   "cell_type": "code",
   "execution_count": 64,
   "metadata": {},
   "outputs": [
    {
     "data": {
      "text/latex": [
       "$\\displaystyle \\mathbf{\\hat{i}_{}} - \\mathbf{\\hat{j}_{}} + \\left(3\\right)\\mathbf{\\hat{k}_{}}$"
      ],
      "text/plain": [
       ".i + (-1)*.j + 3*.k"
      ]
     },
     "execution_count": 64,
     "metadata": {},
     "output_type": "execute_result"
    }
   ],
   "source": [
    "one = to_cartesian(1, 1, 0)\n",
    "two = to_cartesian(-2, 1, 1)\n",
    "one ^ two"
   ]
  },
  {
   "cell_type": "code",
   "execution_count": 65,
   "metadata": {},
   "outputs": [],
   "source": [
    "p1 = (5, 4, 1)\n",
    "dir_one = to_cartesian(2, -1, 3)\n",
    "p2 = (7, 3, 4)\n",
    "dir_two = to_cartesian(4, -2, 5)\n"
   ]
  },
  {
   "cell_type": "code",
   "execution_count": 66,
   "metadata": {},
   "outputs": [
    {
     "data": {
      "text/latex": [
       "$\\displaystyle \\left(2 t + 5\\right)\\mathbf{\\hat{i}_{}} + \\left(4 - t\\right)\\mathbf{\\hat{j}_{}} + \\left(3 t + 1\\right)\\mathbf{\\hat{k}_{}}$"
      ],
      "text/plain": [
       "(2*t + 5)*.i + (4 - t)*.j + (3*t + 1)*.k"
      ]
     },
     "execution_count": 66,
     "metadata": {},
     "output_type": "execute_result"
    }
   ],
   "source": [
    "to_line(p1, dir_one)"
   ]
  },
  {
   "cell_type": "code",
   "execution_count": 67,
   "metadata": {},
   "outputs": [
    {
     "data": {
      "text/latex": [
       "$\\displaystyle \\left(4 t + 7\\right)\\mathbf{\\hat{i}_{}} + \\left(3 - 2 t\\right)\\mathbf{\\hat{j}_{}} + \\left(5 t + 4\\right)\\mathbf{\\hat{k}_{}}$"
      ],
      "text/plain": [
       "(4*t + 7)*.i + (3 - 2*t)*.j + (5*t + 4)*.k"
      ]
     },
     "execution_count": 67,
     "metadata": {},
     "output_type": "execute_result"
    }
   ],
   "source": [
    "to_line(p2, dir_two)"
   ]
  }
 ],
 "metadata": {
  "kernelspec": {
   "display_name": "Python 3",
   "language": "python",
   "name": "python3"
  },
  "language_info": {
   "codemirror_mode": {
    "name": "ipython",
    "version": 3
   },
   "file_extension": ".py",
   "mimetype": "text/x-python",
   "name": "python",
   "nbconvert_exporter": "python",
   "pygments_lexer": "ipython3",
   "version": "3.12.0"
  }
 },
 "nbformat": 4,
 "nbformat_minor": 2
}
