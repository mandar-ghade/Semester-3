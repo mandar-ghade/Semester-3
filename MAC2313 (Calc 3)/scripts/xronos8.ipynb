{
 "cells": [
  {
   "cell_type": "code",
   "execution_count": 84,
   "metadata": {},
   "outputs": [],
   "source": [
    "import sympy as smp\n",
    "from sympy.vector import CoordSys3D, dot, cross"
   ]
  },
  {
   "cell_type": "code",
   "execution_count": 85,
   "metadata": {},
   "outputs": [],
   "source": [
    "N = CoordSys3D('')\n",
    "i, j, k = N.i, N.j, N.k\n",
    "t = smp.Symbol('t')\n",
    "cos = smp.cos\n",
    "sin = smp.sin\n",
    "tan = smp.tan\n",
    "pi = smp.pi\n",
    "x = smp.Symbol('x')"
   ]
  },
  {
   "cell_type": "code",
   "execution_count": 86,
   "metadata": {},
   "outputs": [],
   "source": [
    "def norm(v):\n",
    "    return smp.sqrt(v & v)"
   ]
  },
  {
   "cell_type": "code",
   "execution_count": 87,
   "metadata": {},
   "outputs": [],
   "source": [
    "def to_cartesian(x, y, z):\n",
    "    return x*i + y*j + z*k"
   ]
  },
  {
   "cell_type": "code",
   "execution_count": 88,
   "metadata": {},
   "outputs": [],
   "source": [
    "def get_unit_tangent_vector(vec):\n",
    "    vec_dt = vec.diff()\n",
    "    return (vec_dt / norm(vec_dt)).simplify()"
   ]
  },
  {
   "cell_type": "code",
   "execution_count": 89,
   "metadata": {},
   "outputs": [],
   "source": [
    "def get_normal_vector(vec):\n",
    "    tan_dt_vec = get_unit_tangent_vector(vec).diff()\n",
    "    return (tan_dt_vec / norm(tan_dt_vec)).simplify()"
   ]
  },
  {
   "cell_type": "code",
   "execution_count": 90,
   "metadata": {},
   "outputs": [],
   "source": [
    "def get_normal_vector_given_t(vec, time):\n",
    "    tan_dt_vec = get_unit_tangent_vector(vec).diff().subs(t, time)\n",
    "    return (tan_dt_vec / norm(tan_dt_vec)).simplify()"
   ]
  },
  {
   "cell_type": "code",
   "execution_count": 91,
   "metadata": {},
   "outputs": [],
   "source": [
    "def get_curvature(vec):\n",
    "    tan_dt_vec = get_unit_tangent_vector(vec).diff()\n",
    "    vec_dt = vec.diff()\n",
    "    return (norm(tan_dt_vec) / norm(vec_dt)).simplify()"
   ]
  },
  {
   "cell_type": "code",
   "execution_count": 92,
   "metadata": {},
   "outputs": [],
   "source": [
    "def get_non_parametrized_curvature(expr):\n",
    "    first_deriv = expr.diff()\n",
    "    second_deriv = first_deriv.diff()\n",
    "    return (smp.Abs(second_deriv) / ((1 + first_deriv**2) ** (3/2))).simplify()"
   ]
  },
  {
   "cell_type": "code",
   "execution_count": 93,
   "metadata": {},
   "outputs": [],
   "source": [
    "def get_tangential_component_of_accel(vec):\n",
    "    v = vec.diff()\n",
    "    a = v.diff()\n",
    "    return ((v & a) / norm(v)).simplify()"
   ]
  },
  {
   "cell_type": "code",
   "execution_count": 94,
   "metadata": {},
   "outputs": [],
   "source": [
    "def get_normal_component_of_accel(vec):\n",
    "    v = vec.diff()\n",
    "    a = v.diff()\n",
    "    return (norm(v ^ a)/norm(v)).simplify()"
   ]
  },
  {
   "cell_type": "code",
   "execution_count": 95,
   "metadata": {},
   "outputs": [],
   "source": [
    "def get_velocity(vec):\n",
    "    return vec.diff()"
   ]
  },
  {
   "cell_type": "code",
   "execution_count": 96,
   "metadata": {},
   "outputs": [],
   "source": [
    "def get_acceleration(vec):\n",
    "    return vec.diff().diff()"
   ]
  },
  {
   "cell_type": "code",
   "execution_count": 97,
   "metadata": {},
   "outputs": [],
   "source": [
    "def get_speed(vec):\n",
    "    return norm(vec.diff())"
   ]
  },
  {
   "cell_type": "code",
   "execution_count": 107,
   "metadata": {},
   "outputs": [
    {
     "data": {
      "text/plain": [
       "27.0"
      ]
     },
     "execution_count": 107,
     "metadata": {},
     "output_type": "execute_result"
    }
   ],
   "source": [
    "vec_1 = to_cartesian(9*smp.sqrt(2)/2, -9*smp.sqrt(2)/2, 0)\n",
    "vec_2 = to_cartesian(-3*smp.sqrt(2)/2, -3*smp.sqrt(2)/2, 0)\n",
    "vec_1 ^ vec_2"
   ]
  },
  {
   "cell_type": "code",
   "execution_count": 133,
   "metadata": {},
   "outputs": [
    {
     "data": {
      "text/latex": [
       "$\\displaystyle \\frac{9}{2}$"
      ],
      "text/plain": [
       "9/2"
      ]
     },
     "execution_count": 133,
     "metadata": {},
     "output_type": "execute_result"
    }
   ],
   "source": [
    "vec = to_cartesian(cos(3*t), sin(3*t), 1)\n",
    "v = vec.diff().subs(t, smp.pi/4)\n",
    "a = vec.diff().diff().subs(t, smp.pi/4)\n",
    "\n",
    "(3*smp.sqrt(2)/2)**2"
   ]
  },
  {
   "cell_type": "code",
   "execution_count": 140,
   "metadata": {},
   "outputs": [
    {
     "data": {
      "text/latex": [
       "$\\displaystyle \\frac{2 \\sqrt{5}}{27}$"
      ],
      "text/plain": [
       "2*sqrt(5)/27"
      ]
     },
     "execution_count": 140,
     "metadata": {},
     "output_type": "execute_result"
    }
   ],
   "source": [
    "vec = to_cartesian(t**2, 2*t, t)\n",
    "get_curvature(vec).subs(t, 1)\n"
   ]
  },
  {
   "cell_type": "code",
   "execution_count": 99,
   "metadata": {},
   "outputs": [
    {
     "data": {
      "text/latex": [
       "$\\displaystyle \\mathbf{\\hat{0}}$"
      ],
      "text/plain": [
       "0"
      ]
     },
     "execution_count": 99,
     "metadata": {},
     "output_type": "execute_result"
    }
   ],
   "source": [
    "to_cartesian(-1, -1, 0) ^ to_cartesian(-smp.sqrt(2)/2, -smp.sqrt(2)/2, 0)"
   ]
  },
  {
   "cell_type": "code",
   "execution_count": 100,
   "metadata": {},
   "outputs": [
    {
     "data": {
      "text/latex": [
       "$\\displaystyle \\frac{2 \\sqrt{6}}{3}$"
      ],
      "text/plain": [
       "2*sqrt(6)/3"
      ]
     },
     "execution_count": 100,
     "metadata": {},
     "output_type": "execute_result"
    }
   ],
   "source": [
    "vec = to_cartesian(smp.ln(t), t*smp.ln(t), t**2/2)\n",
    "p = (0, 0, 1/2)\n",
    "get_normal_component_of_accel(vec).subs(t, 1)"
   ]
  }
 ],
 "metadata": {
  "kernelspec": {
   "display_name": "Python 3",
   "language": "python",
   "name": "python3"
  },
  "language_info": {
   "codemirror_mode": {
    "name": "ipython",
    "version": 3
   },
   "file_extension": ".py",
   "mimetype": "text/x-python",
   "name": "python",
   "nbconvert_exporter": "python",
   "pygments_lexer": "ipython3",
   "version": "3.12.0"
  }
 },
 "nbformat": 4,
 "nbformat_minor": 2
}
