{
 "cells": [
  {
   "cell_type": "code",
   "execution_count": 106,
   "metadata": {},
   "outputs": [],
   "source": [
    "import sympy as smp"
   ]
  },
  {
   "cell_type": "code",
   "execution_count": 107,
   "metadata": {},
   "outputs": [],
   "source": [
    "def get_vector_length(x, y, z) -> float:\n",
    "    return (x**2 + y**2 + z**2) ** 0.5"
   ]
  },
  {
   "cell_type": "code",
   "execution_count": 108,
   "metadata": {},
   "outputs": [],
   "source": [
    "def get_distance(vec_1: tuple[int, int, int], vec_2: tuple[int, int, int]) -> float:\n",
    "    x1, y1, z1 = vec_1\n",
    "    x2, y2, z2 = vec_2\n",
    "    distance = get_vector_length(x2-x1, y2-y1, z2-z1)\n",
    "    return distance"
   ]
  },
  {
   "cell_type": "code",
   "execution_count": 109,
   "metadata": {},
   "outputs": [],
   "source": [
    "cos = smp.cos\n",
    "sin = smp.sin\n",
    "i, j, k = smp.symbols('i,j,k')"
   ]
  },
  {
   "cell_type": "code",
   "execution_count": 110,
   "metadata": {},
   "outputs": [],
   "source": [
    "def to_cartesian(x, y, z):\n",
    "    return x*i + y*j + z*k"
   ]
  },
  {
   "cell_type": "code",
   "execution_count": 111,
   "metadata": {},
   "outputs": [],
   "source": [
    "def get_unit_vec(x, y, z):\n",
    "    print(get_vector_length(x, y, z))\n",
    "    return to_cartesian(x, y, z) / get_vector_length(x, y, z)"
   ]
  },
  {
   "cell_type": "code",
   "execution_count": 112,
   "metadata": {},
   "outputs": [],
   "source": [
    "def get_vec_from_point_diff(p1: tuple[int, int, int], p2: tuple[int, int, int]):\n",
    "    x1, y1, z1 = p1\n",
    "    x2, y2, z2 = p2\n",
    "    return (x2-x1)*i + (y2-y1)*j + (z2-z1)*k"
   ]
  },
  {
   "cell_type": "code",
   "execution_count": 113,
   "metadata": {},
   "outputs": [
    {
     "name": "stdout",
     "output_type": "stream",
     "text": [
      "9.0\n"
     ]
    },
    {
     "data": {
      "text/latex": [
       "$\\displaystyle 0.111111111111111 i - 0.888888888888889 j - 0.444444444444444 k$"
      ],
      "text/plain": [
       "0.111111111111111*i - 0.888888888888889*j - 0.444444444444444*k"
      ]
     },
     "execution_count": 113,
     "metadata": {},
     "output_type": "execute_result"
    }
   ],
   "source": [
    "get_unit_vec(-1, 8, 4) * -1"
   ]
  },
  {
   "cell_type": "code",
   "execution_count": 114,
   "metadata": {},
   "outputs": [
    {
     "data": {
      "text/plain": [
       "1.0"
      ]
     },
     "execution_count": 114,
     "metadata": {},
     "output_type": "execute_result"
    }
   ],
   "source": [
    "get_vector_length(1/9, -8/9, -4/9)"
   ]
  },
  {
   "cell_type": "code",
   "execution_count": 115,
   "metadata": {},
   "outputs": [
    {
     "data": {
      "text/plain": [
       "4.123105625617661"
      ]
     },
     "execution_count": 115,
     "metadata": {},
     "output_type": "execute_result"
    }
   ],
   "source": [
    "get_vector_length(3, -2, -2)"
   ]
  },
  {
   "cell_type": "code",
   "execution_count": 116,
   "metadata": {},
   "outputs": [
    {
     "data": {
      "text/plain": [
       "2.29128784747792"
      ]
     },
     "execution_count": 116,
     "metadata": {},
     "output_type": "execute_result"
    }
   ],
   "source": [
    "get_vector_length(1/2, -2, -1)"
   ]
  },
  {
   "cell_type": "code",
   "execution_count": 131,
   "metadata": {},
   "outputs": [
    {
     "name": "stdout",
     "output_type": "stream",
     "text": [
      "9.0\n"
     ]
    },
    {
     "data": {
      "text/latex": [
       "$\\displaystyle - 32.0 i + 4 j - 16.0 k$"
      ],
      "text/plain": [
       "-32.0*i + 4*j - 16.0*k"
      ]
     },
     "execution_count": 131,
     "metadata": {},
     "output_type": "execute_result"
    }
   ],
   "source": [
    "u = to_cartesian(-3, -6, 7)\n",
    "v = to_cartesian(-2, 2, 3)\n",
    "u - v\n",
    "# get_vector_length(-4, 2, 4)\n",
    "get_unit_vec(-8, 1, -4) * 9 * 4"
   ]
  },
  {
   "cell_type": "code",
   "execution_count": 153,
   "metadata": {},
   "outputs": [
    {
     "data": {
      "text/plain": [
       "{c1: -200*sqrt(2) + 200*sqrt(6), c2: -400 + 400*sqrt(3)}"
      ]
     },
     "execution_count": 153,
     "metadata": {},
     "output_type": "execute_result"
    }
   ],
   "source": [
    "c1, c2 = smp.symbols('c1,c2')\n",
    "pi = smp.pi\n",
    "to_rads = 2*pi/360\n",
    "\n",
    "\n",
    "eq1 = c1*cos(135*to_rads) + c2*cos(60*to_rads)\n",
    "eq2 = c1*sin(135*to_rads) + c2*sin(60*to_rads) - 400\n",
    "smp.solve((eq1, eq2), (c1, c2))\n",
    "# res = smp.Equality(eq1, eq2)\n",
    "# res"
   ]
  }
 ],
 "metadata": {
  "kernelspec": {
   "display_name": "Python 3",
   "language": "python",
   "name": "python3"
  },
  "language_info": {
   "codemirror_mode": {
    "name": "ipython",
    "version": 3
   },
   "file_extension": ".py",
   "mimetype": "text/x-python",
   "name": "python",
   "nbconvert_exporter": "python",
   "pygments_lexer": "ipython3",
   "version": "3.11.5"
  }
 },
 "nbformat": 4,
 "nbformat_minor": 2
}
